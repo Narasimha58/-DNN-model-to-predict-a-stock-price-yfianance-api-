{
  "nbformat": 4,
  "nbformat_minor": 0,
  "metadata": {
    "colab": {
      "name": "yahoofiinaceapi.ipynb",
      "provenance": [],
      "collapsed_sections": [],
      "authorship_tag": "ABX9TyNTx329a8Gw4W8WkDuvdJw5"
    },
    "kernelspec": {
      "name": "python3",
      "display_name": "Python 3"
    },
    "language_info": {
      "name": "python"
    }
  },
  "cells": [
    {
      "cell_type": "code",
      "metadata": {
        "colab": {
          "base_uri": "https://localhost:8080/"
        },
        "id": "EjpmB37enzqZ",
        "outputId": "a49d6a98-b983-4790-b598-eef0c6894878"
      },
      "source": [
        "pip install yfinance"
      ],
      "execution_count": 247,
      "outputs": [
        {
          "output_type": "stream",
          "name": "stdout",
          "text": [
            "Requirement already satisfied: yfinance in /usr/local/lib/python3.7/dist-packages (0.1.64)\n",
            "Requirement already satisfied: pandas>=0.24 in /usr/local/lib/python3.7/dist-packages (from yfinance) (1.1.5)\n",
            "Requirement already satisfied: requests>=2.20 in /usr/local/lib/python3.7/dist-packages (from yfinance) (2.23.0)\n",
            "Requirement already satisfied: numpy>=1.15 in /usr/local/lib/python3.7/dist-packages (from yfinance) (1.19.5)\n",
            "Requirement already satisfied: multitasking>=0.0.7 in /usr/local/lib/python3.7/dist-packages (from yfinance) (0.0.9)\n",
            "Requirement already satisfied: lxml>=4.5.1 in /usr/local/lib/python3.7/dist-packages (from yfinance) (4.6.3)\n",
            "Requirement already satisfied: python-dateutil>=2.7.3 in /usr/local/lib/python3.7/dist-packages (from pandas>=0.24->yfinance) (2.8.2)\n",
            "Requirement already satisfied: pytz>=2017.2 in /usr/local/lib/python3.7/dist-packages (from pandas>=0.24->yfinance) (2018.9)\n",
            "Requirement already satisfied: six>=1.5 in /usr/local/lib/python3.7/dist-packages (from python-dateutil>=2.7.3->pandas>=0.24->yfinance) (1.15.0)\n",
            "Requirement already satisfied: chardet<4,>=3.0.2 in /usr/local/lib/python3.7/dist-packages (from requests>=2.20->yfinance) (3.0.4)\n",
            "Requirement already satisfied: certifi>=2017.4.17 in /usr/local/lib/python3.7/dist-packages (from requests>=2.20->yfinance) (2021.5.30)\n",
            "Requirement already satisfied: urllib3!=1.25.0,!=1.25.1,<1.26,>=1.21.1 in /usr/local/lib/python3.7/dist-packages (from requests>=2.20->yfinance) (1.24.3)\n",
            "Requirement already satisfied: idna<3,>=2.5 in /usr/local/lib/python3.7/dist-packages (from requests>=2.20->yfinance) (2.10)\n"
          ]
        }
      ]
    },
    {
      "cell_type": "code",
      "metadata": {
        "id": "l85e7g86n3EN"
      },
      "source": [
        "import yfinance as yf"
      ],
      "execution_count": 248,
      "outputs": []
    },
    {
      "cell_type": "code",
      "metadata": {
        "colab": {
          "base_uri": "https://localhost:8080/"
        },
        "id": "EXIFRgN1n3Hi",
        "outputId": "9e540195-360a-49e2-de3f-734fd21524ac"
      },
      "source": [
        "tsla = yf.Ticker('TSLA')\n",
        "print(tsla.info)\n",
        "hist = tsla.history(period='4000d')"
      ],
      "execution_count": 249,
      "outputs": [
        {
          "output_type": "stream",
          "name": "stdout",
          "text": [
            "{'zip': '94304', 'sector': 'Consumer Cyclical', 'fullTimeEmployees': 70757, 'longBusinessSummary': 'Tesla, Inc. designs, develops, manufactures, leases, and sells electric vehicles, and energy generation and storage systems in the United States, China, and internationally. The company operates in two segments, Automotive, and Energy Generation and Storage. The Automotive segment offers electric vehicles, as well as sells automotive regulatory credits. It provides sedans and sport utility vehicles through direct and used vehicle sales, a network of Tesla Superchargers, and in-app upgrades; and purchase financing and leasing services. This segment is also involved in the provision of non-warranty after-sales vehicle services, sale of used vehicles, retail merchandise, and vehicle insurance, as well as sale of products through its subsidiaries to third party customers; services for electric vehicles through its company-owned service locations, and Tesla mobile service technicians; and vehicle limited warranties and extended service plans. The Energy Generation and Storage segment engages in the design, manufacture, installation, sale, and leasing of solar energy generation and energy storage products, and related services to residential, commercial, and industrial customers and utilities through its website, stores, and galleries, as well as through a network of channel partners. This segment also offers service and repairs to its energy product customers, including under warranty; and various financing options to its solar customers. The company was formerly known as Tesla Motors, Inc. and changed its name to Tesla, Inc. in February 2017. Tesla, Inc. was founded in 2003 and is headquartered in Palo Alto, California.', 'city': 'Palo Alto', 'phone': '650-681-5000', 'state': 'CA', 'country': 'United States', 'companyOfficers': [], 'website': 'http://www.tesla.com', 'maxAge': 1, 'address1': '3500 Deer Creek Road', 'industry': 'Auto Manufacturers', 'ebitdaMargins': 0.15512, 'profitMargins': 0.07403, 'grossMargins': 0.23107, 'operatingCashflow': 9930999808, 'revenueGrowth': 0.568, 'operatingMargins': 0.09789, 'ebitda': 7266999808, 'targetLowPrice': 67, 'recommendationKey': 'hold', 'grossProfits': 6630000000, 'freeCashflow': 4644624896, 'targetMedianPrice': 855, 'currentPrice': 1208.59, 'earningsGrowth': 4.333, 'currentRatio': 1.385, 'returnOnAssets': 0.055370003, 'numberOfAnalystOpinions': 36, 'targetMeanPrice': 779.34, 'debtToEquity': 35.65, 'returnOnEquity': 0.15641, 'targetHighPrice': 1300, 'totalCash': 16094999552, 'totalDebt': 10158000128, 'totalRevenue': 46848000000, 'totalCashPerShare': 16.027, 'financialCurrency': 'USD', 'revenuePerShare': 48.272, 'quickRatio': 1.002, 'recommendationMean': 2.6, 'exchange': 'NMS', 'shortName': 'Tesla, Inc.', 'longName': 'Tesla, Inc.', 'exchangeTimezoneName': 'America/New_York', 'exchangeTimezoneShortName': 'EDT', 'isEsgPopulated': False, 'gmtOffSetMilliseconds': '-14400000', 'quoteType': 'EQUITY', 'symbol': 'TSLA', 'messageBoardId': 'finmb_27444752', 'market': 'us_market', 'annualHoldingsTurnover': None, 'enterpriseToRevenue': 23.784, 'beta3Year': None, 'enterpriseToEbitda': 153.331, '52WeekChange': 1.6279783, 'morningStarRiskRating': None, 'forwardEps': 7.91, 'revenueQuarterlyGrowth': None, 'sharesOutstanding': 1004259968, 'fundInceptionDate': None, 'annualReportExpenseRatio': None, 'totalAssets': None, 'bookValue': 26.945, 'sharesShort': 30337020, 'sharesPercentSharesOut': 0.030199999, 'fundFamily': None, 'lastFiscalYearEnd': 1609372800, 'heldPercentInstitutions': 0.41202998, 'netIncomeToCommon': 3468000000, 'trailingEps': 3.062, 'lastDividendValue': None, 'SandP52WeekChange': 0.36692226, 'priceToBook': 44.853962, 'heldPercentInsiders': 0.18979, 'nextFiscalYearEnd': 1672444800, 'yield': None, 'mostRecentQuarter': 1632960000, 'shortRatio': 1.6, 'sharesShortPreviousMonthDate': 1631664000, 'floatShares': 815824595, 'beta': 1.89365, 'enterpriseValue': 1114254999552, 'priceHint': 2, 'threeYearAverageReturn': None, 'lastSplitDate': 1598832000, 'lastSplitFactor': '5:1', 'legalType': None, 'lastDividendDate': None, 'morningStarOverallRating': None, 'earningsQuarterlyGrowth': 3.888, 'priceToSalesTrailing12Months': 25.90801, 'dateShortInterest': 1634256000, 'pegRatio': 2.53, 'ytdReturn': None, 'forwardPE': 152.79266, 'lastCapGain': None, 'shortPercentOfFloat': 0.0372, 'sharesShortPriorMonth': 26999741, 'impliedSharesOutstanding': None, 'category': None, 'fiveYearAverageReturn': None, 'previousClose': 1114, 'regularMarketOpen': 1145, 'twoHundredDayAverage': 707.63184, 'trailingAnnualDividendYield': None, 'payoutRatio': 0, 'volume24Hr': None, 'regularMarketDayHigh': 1209.75, 'navPrice': None, 'averageDailyVolume10Day': 44185040, 'regularMarketPreviousClose': 1114, 'fiftyDayAverage': 830.86743, 'trailingAnnualDividendRate': None, 'open': 1145, 'toCurrency': None, 'averageVolume10days': 44185040, 'expireDate': None, 'algorithm': None, 'dividendRate': None, 'exDividendDate': None, 'circulatingSupply': None, 'startDate': None, 'regularMarketDayLow': 1118.66, 'currency': 'USD', 'trailingPE': 394.70605, 'regularMarketVolume': 56048818, 'lastMarket': None, 'maxSupply': None, 'openInterest': None, 'marketCap': 1213738516480, 'volumeAllCurrencies': None, 'strikePrice': None, 'averageVolume': 20312743, 'dayLow': 1118.66, 'ask': 0, 'askSize': 1400, 'volume': 56048818, 'fiftyTwoWeekHigh': 1209.75, 'fromCurrency': None, 'fiveYearAvgDividendYield': None, 'fiftyTwoWeekLow': 396.03, 'bid': 0, 'tradeable': False, 'dividendYield': None, 'bidSize': 1000, 'dayHigh': 1209.75, 'regularMarketPrice': 1208.59, 'preMarketPrice': None, 'logo_url': 'https://logo.clearbit.com/tesla.com'}\n"
          ]
        }
      ]
    },
    {
      "cell_type": "code",
      "metadata": {
        "colab": {
          "base_uri": "https://localhost:8080/",
          "height": 234
        },
        "id": "92u-uaERq15I",
        "outputId": "9e7dcd36-d7ed-4d46-9ef8-7a053d61d024"
      },
      "source": [
        "hist.head()"
      ],
      "execution_count": 250,
      "outputs": [
        {
          "output_type": "execute_result",
          "data": {
            "text/html": [
              "<div>\n",
              "<style scoped>\n",
              "    .dataframe tbody tr th:only-of-type {\n",
              "        vertical-align: middle;\n",
              "    }\n",
              "\n",
              "    .dataframe tbody tr th {\n",
              "        vertical-align: top;\n",
              "    }\n",
              "\n",
              "    .dataframe thead th {\n",
              "        text-align: right;\n",
              "    }\n",
              "</style>\n",
              "<table border=\"1\" class=\"dataframe\">\n",
              "  <thead>\n",
              "    <tr style=\"text-align: right;\">\n",
              "      <th></th>\n",
              "      <th>Open</th>\n",
              "      <th>High</th>\n",
              "      <th>Low</th>\n",
              "      <th>Close</th>\n",
              "      <th>Volume</th>\n",
              "      <th>Dividends</th>\n",
              "      <th>Stock Splits</th>\n",
              "    </tr>\n",
              "    <tr>\n",
              "      <th>Date</th>\n",
              "      <th></th>\n",
              "      <th></th>\n",
              "      <th></th>\n",
              "      <th></th>\n",
              "      <th></th>\n",
              "      <th></th>\n",
              "      <th></th>\n",
              "    </tr>\n",
              "  </thead>\n",
              "  <tbody>\n",
              "    <tr>\n",
              "      <th>2010-06-29</th>\n",
              "      <td>3.800</td>\n",
              "      <td>5.000</td>\n",
              "      <td>3.508</td>\n",
              "      <td>4.778</td>\n",
              "      <td>93831500</td>\n",
              "      <td>0</td>\n",
              "      <td>0.0</td>\n",
              "    </tr>\n",
              "    <tr>\n",
              "      <th>2010-06-30</th>\n",
              "      <td>5.158</td>\n",
              "      <td>6.084</td>\n",
              "      <td>4.660</td>\n",
              "      <td>4.766</td>\n",
              "      <td>85935500</td>\n",
              "      <td>0</td>\n",
              "      <td>0.0</td>\n",
              "    </tr>\n",
              "    <tr>\n",
              "      <th>2010-07-01</th>\n",
              "      <td>5.000</td>\n",
              "      <td>5.184</td>\n",
              "      <td>4.054</td>\n",
              "      <td>4.392</td>\n",
              "      <td>41094000</td>\n",
              "      <td>0</td>\n",
              "      <td>0.0</td>\n",
              "    </tr>\n",
              "    <tr>\n",
              "      <th>2010-07-02</th>\n",
              "      <td>4.600</td>\n",
              "      <td>4.620</td>\n",
              "      <td>3.742</td>\n",
              "      <td>3.840</td>\n",
              "      <td>25699000</td>\n",
              "      <td>0</td>\n",
              "      <td>0.0</td>\n",
              "    </tr>\n",
              "    <tr>\n",
              "      <th>2010-07-06</th>\n",
              "      <td>4.000</td>\n",
              "      <td>4.000</td>\n",
              "      <td>3.166</td>\n",
              "      <td>3.222</td>\n",
              "      <td>34334500</td>\n",
              "      <td>0</td>\n",
              "      <td>0.0</td>\n",
              "    </tr>\n",
              "  </tbody>\n",
              "</table>\n",
              "</div>"
            ],
            "text/plain": [
              "             Open   High    Low  Close    Volume  Dividends  Stock Splits\n",
              "Date                                                                     \n",
              "2010-06-29  3.800  5.000  3.508  4.778  93831500          0           0.0\n",
              "2010-06-30  5.158  6.084  4.660  4.766  85935500          0           0.0\n",
              "2010-07-01  5.000  5.184  4.054  4.392  41094000          0           0.0\n",
              "2010-07-02  4.600  4.620  3.742  3.840  25699000          0           0.0\n",
              "2010-07-06  4.000  4.000  3.166  3.222  34334500          0           0.0"
            ]
          },
          "metadata": {},
          "execution_count": 250
        }
      ]
    },
    {
      "cell_type": "code",
      "metadata": {
        "colab": {
          "base_uri": "https://localhost:8080/",
          "height": 234
        },
        "id": "TQp_iWcDx-Wx",
        "outputId": "291ed9fb-863d-4752-8548-f126d7157fc8"
      },
      "source": [
        "hist.tail()"
      ],
      "execution_count": 251,
      "outputs": [
        {
          "output_type": "execute_result",
          "data": {
            "text/html": [
              "<div>\n",
              "<style scoped>\n",
              "    .dataframe tbody tr th:only-of-type {\n",
              "        vertical-align: middle;\n",
              "    }\n",
              "\n",
              "    .dataframe tbody tr th {\n",
              "        vertical-align: top;\n",
              "    }\n",
              "\n",
              "    .dataframe thead th {\n",
              "        text-align: right;\n",
              "    }\n",
              "</style>\n",
              "<table border=\"1\" class=\"dataframe\">\n",
              "  <thead>\n",
              "    <tr style=\"text-align: right;\">\n",
              "      <th></th>\n",
              "      <th>Open</th>\n",
              "      <th>High</th>\n",
              "      <th>Low</th>\n",
              "      <th>Close</th>\n",
              "      <th>Volume</th>\n",
              "      <th>Dividends</th>\n",
              "      <th>Stock Splits</th>\n",
              "    </tr>\n",
              "    <tr>\n",
              "      <th>Date</th>\n",
              "      <th></th>\n",
              "      <th></th>\n",
              "      <th></th>\n",
              "      <th></th>\n",
              "      <th></th>\n",
              "      <th></th>\n",
              "      <th></th>\n",
              "    </tr>\n",
              "  </thead>\n",
              "  <tbody>\n",
              "    <tr>\n",
              "      <th>2021-10-26</th>\n",
              "      <td>1024.689941</td>\n",
              "      <td>1094.939941</td>\n",
              "      <td>1001.440002</td>\n",
              "      <td>1018.429993</td>\n",
              "      <td>62415000</td>\n",
              "      <td>0</td>\n",
              "      <td>0.0</td>\n",
              "    </tr>\n",
              "    <tr>\n",
              "      <th>2021-10-27</th>\n",
              "      <td>1039.660034</td>\n",
              "      <td>1070.880005</td>\n",
              "      <td>1030.780029</td>\n",
              "      <td>1037.859985</td>\n",
              "      <td>38526500</td>\n",
              "      <td>0</td>\n",
              "      <td>0.0</td>\n",
              "    </tr>\n",
              "    <tr>\n",
              "      <th>2021-10-28</th>\n",
              "      <td>1068.310059</td>\n",
              "      <td>1081.000000</td>\n",
              "      <td>1054.199951</td>\n",
              "      <td>1077.040039</td>\n",
              "      <td>27213200</td>\n",
              "      <td>0</td>\n",
              "      <td>0.0</td>\n",
              "    </tr>\n",
              "    <tr>\n",
              "      <th>2021-10-29</th>\n",
              "      <td>1081.859985</td>\n",
              "      <td>1115.209961</td>\n",
              "      <td>1073.209961</td>\n",
              "      <td>1114.000000</td>\n",
              "      <td>29918400</td>\n",
              "      <td>0</td>\n",
              "      <td>0.0</td>\n",
              "    </tr>\n",
              "    <tr>\n",
              "      <th>2021-11-01</th>\n",
              "      <td>1145.000000</td>\n",
              "      <td>1209.750000</td>\n",
              "      <td>1118.660034</td>\n",
              "      <td>1208.589966</td>\n",
              "      <td>55814100</td>\n",
              "      <td>0</td>\n",
              "      <td>0.0</td>\n",
              "    </tr>\n",
              "  </tbody>\n",
              "</table>\n",
              "</div>"
            ],
            "text/plain": [
              "                   Open         High  ...  Dividends  Stock Splits\n",
              "Date                                  ...                         \n",
              "2021-10-26  1024.689941  1094.939941  ...          0           0.0\n",
              "2021-10-27  1039.660034  1070.880005  ...          0           0.0\n",
              "2021-10-28  1068.310059  1081.000000  ...          0           0.0\n",
              "2021-10-29  1081.859985  1115.209961  ...          0           0.0\n",
              "2021-11-01  1145.000000  1209.750000  ...          0           0.0\n",
              "\n",
              "[5 rows x 7 columns]"
            ]
          },
          "metadata": {},
          "execution_count": 251
        }
      ]
    },
    {
      "cell_type": "code",
      "metadata": {
        "colab": {
          "base_uri": "https://localhost:8080/"
        },
        "id": "agLjp9cMrSdU",
        "outputId": "fc4afd2a-0ca6-4aa0-a16a-75fa4f96b84b"
      },
      "source": [
        "hist.shape"
      ],
      "execution_count": 252,
      "outputs": [
        {
          "output_type": "execute_result",
          "data": {
            "text/plain": [
              "(2857, 7)"
            ]
          },
          "metadata": {},
          "execution_count": 252
        }
      ]
    },
    {
      "cell_type": "code",
      "metadata": {
        "id": "RVHGqSkGsrb7"
      },
      "source": [
        "import matplotlib.pyplot as plt \n",
        "import datetime as dt \n",
        "from sklearn.preprocessing import MinMaxScaler \n",
        "from tensorflow.keras.models import Sequential\n",
        "from tensorflow.keras.layers import Dense ,Dropout,LSTM\n",
        "import pandas as pd\n",
        "import numpy as np "
      ],
      "execution_count": 253,
      "outputs": []
    },
    {
      "cell_type": "code",
      "metadata": {
        "id": "B52HeB3ssrr3"
      },
      "source": [
        "# preparing the data for neural network \n",
        "scaler = MinMaxScaler(feature_range=(0,1)) # scalling the data in btw 0-1 \n",
        "scaled_data = scaler.fit_transform(hist['Close'].values.reshape(-1,1))\n",
        "\n",
        "predication_days = 20  # past data \n",
        "x_train=[]\n",
        "y_train =[] \n",
        "\n",
        "for x in range(predication_days,len(scaled_data)):\n",
        "  x_train.append(scaled_data[x-predication_days:x,0])\n",
        "  y_train.append(scaled_data[x,0])\n",
        "\n",
        "x_train ,y_train = np.array(x_train) ,np.array(y_train)\n",
        "x_train = np.reshape(x_train,(x_train.shape[0],x_train.shape[1], 1))"
      ],
      "execution_count": 254,
      "outputs": []
    },
    {
      "cell_type": "code",
      "metadata": {
        "id": "K_Z2bPn3tw6j"
      },
      "source": [
        "# building the model \n",
        "model = Sequential()\n",
        "\n",
        "model.add(LSTM(units=50,return_sequences=True,input_shape=(x_train.shape[1],1 ))) #input layer reshaped \n",
        "model.add(Dropout(0.2))\n",
        "# layer 1 \n",
        "model.add(LSTM(units=50,return_sequences=True))\n",
        "model.add(Dropout(0.2))\n",
        "# layer 2\n",
        "model.add(LSTM(units=50))\n",
        "model.add(Dropout(0.2))\n",
        "# prediction of next closing vlaue \n",
        "model.add(Dense(units=1))"
      ],
      "execution_count": 255,
      "outputs": []
    },
    {
      "cell_type": "code",
      "metadata": {
        "colab": {
          "base_uri": "https://localhost:8080/"
        },
        "id": "7g5qCfSft10K",
        "outputId": "0c7e7250-badc-401a-e637-bd9d07ebd370"
      },
      "source": [
        "# compiling the model \n",
        "model.compile(optimizer='adam',loss='mean_squared_error')\n",
        "model.fit(x_train,y_train,epochs =25,batch_size=32 ) # 32 units at once\n"
      ],
      "execution_count": 256,
      "outputs": [
        {
          "output_type": "stream",
          "name": "stdout",
          "text": [
            "Epoch 1/25\n",
            "89/89 [==============================] - 9s 35ms/step - loss: 0.0031\n",
            "Epoch 2/25\n",
            "89/89 [==============================] - 3s 35ms/step - loss: 9.5308e-04\n",
            "Epoch 3/25\n",
            "89/89 [==============================] - 3s 34ms/step - loss: 8.2578e-04\n",
            "Epoch 4/25\n",
            "89/89 [==============================] - 3s 33ms/step - loss: 6.3827e-04\n",
            "Epoch 5/25\n",
            "89/89 [==============================] - 3s 34ms/step - loss: 7.5794e-04\n",
            "Epoch 6/25\n",
            "89/89 [==============================] - 3s 34ms/step - loss: 7.3557e-04\n",
            "Epoch 7/25\n",
            "89/89 [==============================] - 3s 34ms/step - loss: 7.3232e-04\n",
            "Epoch 8/25\n",
            "89/89 [==============================] - 3s 35ms/step - loss: 5.7819e-04\n",
            "Epoch 9/25\n",
            "89/89 [==============================] - 3s 35ms/step - loss: 7.2496e-04\n",
            "Epoch 10/25\n",
            "89/89 [==============================] - 3s 33ms/step - loss: 5.2155e-04\n",
            "Epoch 11/25\n",
            "89/89 [==============================] - 3s 33ms/step - loss: 7.7593e-04\n",
            "Epoch 12/25\n",
            "89/89 [==============================] - 3s 34ms/step - loss: 6.1812e-04\n",
            "Epoch 13/25\n",
            "89/89 [==============================] - 3s 35ms/step - loss: 5.5063e-04\n",
            "Epoch 14/25\n",
            "89/89 [==============================] - 3s 33ms/step - loss: 5.2511e-04\n",
            "Epoch 15/25\n",
            "89/89 [==============================] - 3s 33ms/step - loss: 4.8044e-04\n",
            "Epoch 16/25\n",
            "89/89 [==============================] - 3s 33ms/step - loss: 5.3477e-04\n",
            "Epoch 17/25\n",
            "89/89 [==============================] - 3s 34ms/step - loss: 5.4397e-04\n",
            "Epoch 18/25\n",
            "89/89 [==============================] - 3s 34ms/step - loss: 5.0200e-04\n",
            "Epoch 19/25\n",
            "89/89 [==============================] - 3s 33ms/step - loss: 6.6903e-04\n",
            "Epoch 20/25\n",
            "89/89 [==============================] - 3s 33ms/step - loss: 3.9129e-04\n",
            "Epoch 21/25\n",
            "89/89 [==============================] - 3s 34ms/step - loss: 4.5251e-04\n",
            "Epoch 22/25\n",
            "89/89 [==============================] - 3s 33ms/step - loss: 4.0429e-04\n",
            "Epoch 23/25\n",
            "89/89 [==============================] - 3s 34ms/step - loss: 4.3995e-04\n",
            "Epoch 24/25\n",
            "89/89 [==============================] - 3s 34ms/step - loss: 5.9603e-04\n",
            "Epoch 25/25\n",
            "89/89 [==============================] - 3s 35ms/step - loss: 3.5518e-04\n"
          ]
        },
        {
          "output_type": "execute_result",
          "data": {
            "text/plain": [
              "<keras.callbacks.History at 0x7f547316df10>"
            ]
          },
          "metadata": {},
          "execution_count": 256
        }
      ]
    },
    {
      "cell_type": "code",
      "metadata": {
        "colab": {
          "base_uri": "https://localhost:8080/"
        },
        "id": "MabqZqbYt4Hu",
        "outputId": "cb633b9e-9090-4d4c-ff90-55d5abc863e3"
      },
      "source": [
        "\"\"\" lets test the model accuracy on existing data \"\"\"\n",
        "\n",
        "\n",
        "test_data = yf.download(\"TSLA\", start=\"2021-10-01\", end=\"2021-11-01\")\n"
      ],
      "execution_count": 257,
      "outputs": [
        {
          "output_type": "stream",
          "name": "stdout",
          "text": [
            "\r[*********************100%***********************]  1 of 1 completed\n"
          ]
        }
      ]
    },
    {
      "cell_type": "code",
      "metadata": {
        "id": "tb2caaP8yvpA"
      },
      "source": [
        "actual_price = test_data['Close'].values\n",
        "\n",
        "total_data =pd.concat((data['Close'],test_data['Close']),axis =0)"
      ],
      "execution_count": 258,
      "outputs": []
    },
    {
      "cell_type": "code",
      "metadata": {
        "id": "C2F_AYmfzN0N"
      },
      "source": [
        "model_inputs = total_data[len(total_data) - len(test_data) - predication_days:].values\n",
        "model_inputs = model_inputs.reshape(-1,1)\n",
        "model_inputs = scaler.transform(model_inputs)"
      ],
      "execution_count": 259,
      "outputs": []
    },
    {
      "cell_type": "code",
      "metadata": {
        "id": "wTtzSeyTzN_n"
      },
      "source": [
        "# make test data prediction \n",
        "x_test=[]\n",
        "for x in range(predication_days,len(model_inputs)):\n",
        "  x_test.append(model_inputs[x-predication_days:x,0])\n",
        "\n",
        "x_test = np.array(x_test)\n",
        "x_test = np.reshape(x_test, (x_test.shape[0],x_test.shape[1],  1))"
      ],
      "execution_count": 260,
      "outputs": []
    },
    {
      "cell_type": "code",
      "metadata": {
        "id": "Ew5-B5TBzOCR"
      },
      "source": [
        "predicted_prices = model.predict(x_test)\n",
        "predicted_prices = scaler.inverse_transform(predicted_prices)"
      ],
      "execution_count": 261,
      "outputs": []
    },
    {
      "cell_type": "code",
      "metadata": {
        "colab": {
          "base_uri": "https://localhost:8080/",
          "height": 295
        },
        "id": "e8pfEbnLzOFv",
        "outputId": "f819d482-dc0f-4d06-fe9d-0bfbd77d5bef"
      },
      "source": [
        "# plotting test prices \n",
        "plt.plot(actual_price,color='black',label='actual price')\n",
        "plt.plot(predicted_prices,color ='blue',label ='predicted price')\n",
        "plt.title('TSLA share price prediction')\n",
        "plt.xlabel('Time')\n",
        "plt.ylabel('telsa share price')\n",
        "plt.legend()\n",
        "plt.show()\n"
      ],
      "execution_count": 262,
      "outputs": [
        {
          "output_type": "display_data",
          "data": {
            "image/png": "[encoded data removed]",
            "text/plain": [
              "<Figure size 432x288 with 1 Axes>"
            ]
          },
          "metadata": {
            "needs_background": "light"
          }
        }
      ]
    },
    {
      "cell_type": "code",
      "metadata": {
        "colab": {
          "base_uri": "https://localhost:8080/"
        },
        "id": "Db9-_HnLzOIl",
        "outputId": "433372be-5887-4f3f-8b05-c2ee965567d4"
      },
      "source": [
        "# lets predict nextday\n",
        "real_data = [model_inputs[len(model_inputs) + 1 -predication_days:len(model_inputs+1),0]]\n",
        "real_data = np.array(real_data)\n",
        "real_data = np.reshape(real_data, (real_data.shape[0],real_data.shape[1],1))\n",
        "\n",
        "prediction = model.predict(real_data)\n",
        "prediction = scaler.inverse_transform(prediction)\n",
        "print(str(prediction))"
      ],
      "execution_count": 269,
      "outputs": [
        {
          "output_type": "stream",
          "name": "stdout",
          "text": [
            "[[952.7051]]\n"
          ]
        }
      ]
    },
    {
      "cell_type": "code",
      "metadata": {
        "id": "53gK4vqczOLf"
      },
      "source": [
        ""
      ],
      "execution_count": 263,
      "outputs": []
    },
    {
      "cell_type": "code",
      "metadata": {
        "id": "qbji0WkdzOOP"
      },
      "source": [
        ""
      ],
      "execution_count": 263,
      "outputs": []
    },
    {
      "cell_type": "code",
      "metadata": {
        "id": "-WzxyeBVzOQw"
      },
      "source": [
        ""
      ],
      "execution_count": 263,
      "outputs": []
    },
    {
      "cell_type": "code",
      "metadata": {
        "id": "AsZlvqLCzOUF"
      },
      "source": [
        ""
      ],
      "execution_count": 263,
      "outputs": []
    }
  ]
}